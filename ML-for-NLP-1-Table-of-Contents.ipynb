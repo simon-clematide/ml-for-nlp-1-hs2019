{
 "cells": [
  {
   "cell_type": "markdown",
   "metadata": {},
   "source": [
    "## Lecture 2: Machine Learning and Linear Classification\n",
    " - [Conversion of Text into Numeric Vectors](ml4nlp-notebooks/l02-linear-classification/Text_to_Numeric_Vectors.ipynb)\n",
    " - [Baby Gradient Ascent](ml4nlp-notebooks/l02-linear-classification/Baby_Gradient.ipynb)\n",
    " - [XOR by Logistic Regression with autograd ](ml4nlp-notebooks/l02-linear-classification/xor_Logistic_Regression_With_Autograd.ipynb)"
   ]
  },
  {
   "cell_type": "code",
   "execution_count": null,
   "metadata": {},
   "outputs": [],
   "source": []
  }
 ],
 "metadata": {
  "kernelspec": {
   "display_name": "Python 3",
   "language": "python",
   "name": "python3"
  },
  "language_info": {
   "codemirror_mode": {
    "name": "ipython",
    "version": 3
   },
   "file_extension": ".py",
   "mimetype": "text/x-python",
   "name": "python",
   "nbconvert_exporter": "python",
   "pygments_lexer": "ipython3"
  }
 },
 "nbformat": 4,
 "nbformat_minor": 2
}
