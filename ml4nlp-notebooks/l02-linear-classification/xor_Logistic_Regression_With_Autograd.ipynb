{
 "cells": [
  {
   "cell_type": "markdown",
   "metadata": {},
   "source": [
    "# XOR by Logistic Regression with autograd\n",
    "Example adapted from https://github.com/HIPS/autograd\n"
   ]
  },
  {
   "cell_type": "code",
   "execution_count": null,
   "metadata": {},
   "outputs": [],
   "source": [
    "import autograd.numpy as np\n",
    "from autograd import grad\n",
    "\n",
    "# monkey patch for nicer output https://github.com/HIPS/autograd/issues/355\n",
    "np.numpy_boxes.ArrayBox.__str__ = lambda self: str(self._value)\n",
    "\n",
    "def sigmoid(x):\n",
    "    return 0.5*(np.tanh(x) + 1)\n",
    "\n",
    "def logistic_predictions(weights, inputs):\n",
    "    # Outputs probability of a label being true according to logistic model.\n",
    "    return sigmoid(np.dot(inputs, weights))\n",
    "\n",
    "def training_loss(weights):\n",
    "    # Training loss is the negative log-likelihood of the training labels.\n",
    "    # updates the predictions and label probabilities as globals to reflect the model changes\n",
    "    global preds, label_probabilities\n",
    "    preds = logistic_predictions(weights, inputs)\n",
    "    label_probabilities = preds * targets + (1 - preds) * (1 - targets)\n",
    "    return -np.sum(np.log(label_probabilities))\n",
    "\n",
    "# Build a toy dataset.\n",
    "# x1, x2, bias\n",
    "inputs = np.array([[0.,0.,1.],\n",
    "                   [0.,1.,1.],\n",
    "                   [1.,0.,1.],\n",
    "                   [1.,1.,1.]])\n",
    "targets = np.array([False, True, True, False])\n",
    "\n",
    "# Build a function that returns gradients of training loss using autograd.\n",
    "training_gradient_fun = grad(training_loss)\n",
    "\n",
    "# initialize the weights randomly\n",
    "weights = np.random.rand(3)\n",
    "# or by zeroes\n",
    "# weights = np.array([0.,0.,0.])\n",
    "\n",
    "# Optimize weights using gradient descent.\n",
    "print(f\"Initial loss:        {training_loss(weights):.4f}\")\n",
    "print(f\"Initial weights:     {weights}\")\n",
    "print(f\"Raw predictions:     {preds}\")\n",
    "print(f\"Label probabilities: {label_probabilities}\")\n",
    "\n",
    "print()\n",
    "for i in range(100):\n",
    "    print(f\"\\nIteration {i}:\")\n",
    "    print(f\"Current weights:     {weights}\")\n",
    "    gradients = training_gradient_fun(weights)\n",
    "    print(f\"Gradients:           {gradients}\")\n",
    "    weights -= gradients * 0.1\n",
    "    print(f\"New weights:         {weights}\")\n",
    "    print(f\"Trained loss:        {training_loss(weights):.4f}\")\n",
    "    print(f\"Raw predictions:     {preds}\")\n",
    "    print(f\"Label probabilities: {label_probabilities}\")\n",
    "    "
   ]
  },
  {
   "cell_type": "markdown",
   "metadata": {},
   "source": [
    "## Feature engineering\n",
    "Let's construct an additional feature by hand: x1 * x2\n",
    "\n",
    "Can we now learn the xor function?"
   ]
  },
  {
   "cell_type": "code",
   "execution_count": null,
   "metadata": {},
   "outputs": [],
   "source": [
    "# Build a toy dataset.\n",
    "# x1, x2, bias, x1*x2\n",
    "inputs = np.array([[0.,0.,1.,0.],\n",
    "                   [0.,1.,1.,0.],\n",
    "                   [1.,0.,1.,0.],\n",
    "                   [1.,1.,1.,1.]])\n",
    "targets = np.array([False, True, True, False])\n",
    "\n",
    "# initialize the weights\n",
    "weights = np.array([0.,0.,0.,0])\n",
    "\n",
    "# Optimize weights using gradient descent.\n",
    "print(f\"Initial loss:        {training_loss(weights):.4f}\")\n",
    "print(f\"Initial weights:     {weights}\")\n",
    "print(f\"Raw predictions:     {preds}\")\n",
    "print(f\"Label probabilities: {label_probabilities}\")\n",
    "\n",
    "print()\n",
    "for i in range(1000):\n",
    "    print(f\"\\nIteration {i}:\")\n",
    "    print(f\"Current weights:     {weights}\")\n",
    "    gradients = training_gradient_fun(weights)\n",
    "    print(f\"Gradients:           {gradients}\")\n",
    "    weights -= gradients * 0.1\n",
    "    print(f\"New weights:         {weights}\")\n",
    "    print(f\"Trained loss:        {training_loss(weights):.4f}\")\n",
    "    print(f\"Raw predictions:     {preds}\")\n",
    "    print(f\"Label probabilities: {label_probabilities}\")\n"
   ]
  },
  {
   "cell_type": "code",
   "execution_count": null,
   "metadata": {},
   "outputs": [],
   "source": []
  }
 ],
 "metadata": {
  "kernelspec": {
   "display_name": "Python 3",
   "language": "python",
   "name": "python3"
  },
  "language_info": {
   "codemirror_mode": {
    "name": "ipython",
    "version": 3
   },
   "file_extension": ".py",
   "mimetype": "text/x-python",
   "name": "python",
   "nbconvert_exporter": "python",
   "pygments_lexer": "ipython3"
  }
 },
 "nbformat": 4,
 "nbformat_minor": 2
}
