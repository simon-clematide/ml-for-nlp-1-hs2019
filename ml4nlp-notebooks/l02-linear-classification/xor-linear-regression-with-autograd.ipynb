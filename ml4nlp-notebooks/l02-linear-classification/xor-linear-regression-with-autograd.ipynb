{
 "cells": [
  {
   "cell_type": "markdown",
   "metadata": {},
   "source": [
    "# XOR with autograd\n",
    "Example adapted from https://github.com/HIPS/autograd"
   ]
  },
  {
   "cell_type": "code",
   "execution_count": null,
   "metadata": {},
   "outputs": [],
   "source": [
    "from __future__ import absolute_import\n",
    "\n",
    "import autograd.numpy as np\n",
    "from autograd import grad\n",
    "\n",
    "def sigmoid(x):\n",
    "    return 0.5*(np.tanh(x) + 1)\n",
    "\n",
    "def logistic_predictions(weights, inputs):\n",
    "    # Outputs probability of a label being true according to logistic model.\n",
    "    return sigmoid(np.dot(inputs, weights))\n",
    "\n",
    "def training_loss(weights):\n",
    "    # Training loss is the negative log-likelihood of the training labels.\n",
    "    preds = logistic_predictions(weights, inputs)\n",
    "    print(\"Predictions\",preds)\n",
    "    label_probabilities = preds * targets + (1 - preds) * (1 - targets)\n",
    "    print(\"Label probabilities\", label_probabilities)\n",
    "    return -np.sum(np.log(label_probabilities))\n",
    "\n",
    "# Build a toy dataset.\n",
    "# x1, x2, bias\n",
    "inputs = np.array([[0.,0.,1.],\n",
    "                   [0.,1.,1.],\n",
    "                   [1.,0.,1.],\n",
    "                   [1.,1.,1.]])\n",
    "targets = np.array([False, True, True, False])\n",
    "\n",
    "# Build a function that returns gradients of training loss using autograd.\n",
    "training_gradient_fun = grad(training_loss)\n",
    "\n",
    "# initialize the weights\n",
    "weights = np.array([1.,0.,0.])\n",
    "\n",
    "# Optimize weights using gradient descent.\n",
    "print(\"Initial loss:\", training_loss(weights))\n",
    "for i in range(100):\n",
    "    weights -= training_gradient_fun(weights) * 0.01\n",
    "    print(\"gradients\", training_gradient_fun(weights))\n",
    "    print(\"New weights\",weights)\n",
    "    print(\"Trained loss:\", training_loss(weights))\n",
    "    print()"
   ]
  },
  {
   "cell_type": "code",
   "execution_count": null,
   "metadata": {},
   "outputs": [],
   "source": [
    "1 - targets"
   ]
  },
  {
   "cell_type": "markdown",
   "metadata": {},
   "source": [
    "## Feature engineering\n",
    "Let's construct an additional feature: x1 * x2"
   ]
  },
  {
   "cell_type": "code",
   "execution_count": null,
   "metadata": {},
   "outputs": [],
   "source": [
    "# Build a toy dataset.\n",
    "# x1, x2, bias\n",
    "inputs = np.array([[0.,0.,1.,0.],\n",
    "                   [0.,1.,1.,0.],\n",
    "                   [1.,0.,1.,0.],\n",
    "                   [1.,1.,1.,1.]])\n",
    "targets = np.array([False, True, True, False])\n",
    "\n",
    "# Build a function that returns gradients of training loss using autograd.\n",
    "training_gradient_fun = grad(training_loss)\n",
    "\n",
    "# initialize the weights\n",
    "weights = np.array([0.,0.,0.,0])\n",
    "\n",
    "# Optimize weights using gradient descent.\n",
    "print(\"Initial loss:\", training_loss(weights))\n",
    "for i in range(1000):\n",
    "    weights -= training_gradient_fun(weights) * 0.1\n",
    "    print(\"gradients\", training_gradient_fun(weights))\n",
    "    print(\"New weights\",weights)\n",
    "    print(\"Trained loss:\", training_loss(weights))\n",
    "    print()"
   ]
  },
  {
   "cell_type": "code",
   "execution_count": null,
   "metadata": {},
   "outputs": [],
   "source": []
  }
 ],
 "metadata": {
  "kernelspec": {
   "display_name": "Python 3",
   "language": "python",
   "name": "python3"
  },
  "language_info": {
   "codemirror_mode": {
    "name": "ipython",
    "version": 3
   },
   "file_extension": ".py",
   "mimetype": "text/x-python",
   "name": "python",
   "nbconvert_exporter": "python",
   "pygments_lexer": "ipython3"
  }
 },
 "nbformat": 4,
 "nbformat_minor": 2
}
