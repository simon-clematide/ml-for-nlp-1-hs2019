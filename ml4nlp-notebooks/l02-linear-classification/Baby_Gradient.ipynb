{
 "cells": [
  {
   "cell_type": "markdown",
   "metadata": {},
   "source": [
    "# Gradient Ascent with Symbolic Differentiation\n",
    "The notebook illustrates the iterative gradient ascent for any unary function."
   ]
  },
  {
   "cell_type": "code",
   "execution_count": null,
   "metadata": {},
   "outputs": [],
   "source": [
    "# Not yet on the binder machine\n",
    "!pip install sympy"
   ]
  },
  {
   "cell_type": "code",
   "execution_count": null,
   "metadata": {},
   "outputs": [],
   "source": [
    "import sys, random\n",
    "from sympy import *\n",
    "from sympy.plotting import plot"
   ]
  },
  {
   "cell_type": "code",
   "execution_count": null,
   "metadata": {},
   "outputs": [],
   "source": [
    "def baby_gradient_ascent(f, a, init=None, eps=0.001, maxi=100):\n",
    "    \"\"\" Return arg max of function f: float -> float\n",
    "    \n",
    "    f is a sympy expression with x as symbolic parameter.\n",
    "    a is the step size. init is set to a random number [-0.5,0.5) if not specified.\n",
    "    eps is the convergence criterion. maxi is the maximum number of \n",
    "    iterations.\"\"\"\n",
    "    \n",
    "    f_deriv = diff(f, x)\n",
    "    print(f\"Derivative: \",f_deriv)\n",
    "    argmax = random.random()-.5 if init is None else init\n",
    "    print(f\"Initial argmax: {argmax:8.4f}\")\n",
    "    converged = False\n",
    "    iteration = 0\n",
    "    while not converged and iteration < maxi:\n",
    "        iteration += 1\n",
    "        oldargmax = argmax\n",
    "        slope = f_deriv.subs(x, argmax)\n",
    "        argmax += a*slope\n",
    "        print(f\"it: {iteration:3d} oldargmax:{oldargmax:8.4f}  slope {slope:8.4f}  argmax:{argmax:8.4f}  delta:{oldargmax-argmax:8.4f}\")\n",
    "        if abs(oldargmax - argmax) < eps:\n",
    "            converged = True\n",
    "    return argmax"
   ]
  },
  {
   "cell_type": "code",
   "execution_count": null,
   "metadata": {},
   "outputs": [],
   "source": [
    "x = symbols('x')\n",
    "f = -x**2+100\n",
    "f_deriv = diff(f,x)"
   ]
  },
  {
   "cell_type": "code",
   "execution_count": null,
   "metadata": {},
   "outputs": [],
   "source": [
    "plot(f)\n",
    "plot(f_deriv)"
   ]
  },
  {
   "cell_type": "code",
   "execution_count": null,
   "metadata": {},
   "outputs": [],
   "source": [
    "baby_gradient_ascent(f, 1)"
   ]
  },
  {
   "cell_type": "code",
   "execution_count": null,
   "metadata": {},
   "outputs": [],
   "source": []
  }
 ],
 "metadata": {
  "kernelspec": {
   "display_name": "Python 3",
   "language": "python",
   "name": "python3"
  },
  "language_info": {
   "codemirror_mode": {
    "name": "ipython",
    "version": 3
   },
   "file_extension": ".py",
   "mimetype": "text/x-python",
   "name": "python",
   "nbconvert_exporter": "python",
   "pygments_lexer": "ipython3"
  }
 },
 "nbformat": 4,
 "nbformat_minor": 2
}
