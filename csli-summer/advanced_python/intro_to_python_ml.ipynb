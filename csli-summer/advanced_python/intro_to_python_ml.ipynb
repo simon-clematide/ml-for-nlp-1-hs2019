{
 "cells": [
  {
   "cell_type": "markdown",
   "metadata": {},
   "source": [
    "<span style=\"font-size:180%;font-weight:bold\">\n",
    "Introduction to machine learning with Python and scikit-learn\n",
    "</span>\n",
    "\n",
    "__CSLI Summer internship Program__<br />\n",
    "__Stanford__"
   ]
  },
  {
   "cell_type": "code",
   "execution_count": null,
   "metadata": {},
   "outputs": [],
   "source": [
    "__author__ = 'Will Monroe and Chris Potts'"
   ]
  },
  {
   "cell_type": "markdown",
   "metadata": {},
   "source": [
    "# Contents\n",
    "\n",
    "0. [Overview](#Overview)\n",
    "0. [Set-up](#Set-up)\n",
    "0. [Vectors](#Vectors)\n",
    "  0. [Vector initialization](#Vector-initialization)\n",
    "  0. [Vector indexing](#Vector-indexing)\n",
    "  0. [Vector assignment](#Vector-assignment)\n",
    "  0. [Vectorized operations](#Vectorized-operations)\n",
    "  0. [Comparison with Python lists](#Comparison-with-Python-lists)\n",
    "0. [Matrices](#Matrices)\n",
    "  0. [Matrix initialization](#Matrix-initialization)\n",
    "  0. [Matrix indexing](#Matrix-indexing)\n",
    "  0. [Matrix assignment](#Matrix-assignment)\n",
    "  0. [Matrix reshaping](#Matrix-reshaping)\n",
    "  0. [Numeric operations](#Numeric-operations)\n",
    "  0. [Sparse matrices with scipy](#Sparse-matrices-with-scipy)\n",
    "0. [Data splits](#Data-splits)\n",
    "  0. [A small classification dataset](#A-small-classification-dataset)\n",
    "  0. [A small regression dataset](#A-small-regression-dataset)\n",
    "  0. [Simple train/test splits](#Simple-train/test-splits)\n",
    "  0. [Cross-validation](#Cross-validation)\n",
    "0. [Basic preprecessing](#Basic-preprecessing)\n",
    "0. [Models](#Models)\n",
    "  0. [Classification](#Classification)\n",
    "  0. [Regression](#Regression)\n",
    "  0. [Model exercises](#Model-exercises)\n",
    "0. [Hyperparameter optimization](#Hyperparameter-optimization)\n",
    "0. [Featurization with DictVectorizer](#Featurization-with-DictVectorizer)\n",
    "0. [Mini-project: cheese or disease? ](#Mini-project:-cheese-or-disease?-)\n",
    "  0. [Readers for the data](#Readers-for-the-data)\n",
    "  0. [Featurize examples](#Featurize-examples)\n",
    "  0. [Use the featurizer on the training data](#Use-the-featurizer-on-the-training-data)\n",
    "  0. [Use the `DictVectorizer`](#Use-the-`DictVectorizer`)\n",
    "  0. [Train a classifier](#Train-a-classifier)\n",
    "  0. [Use the featurizer on the test data](#Use-the-featurizer-on-the-test-data)\n",
    "  0. [Transform the test data into your representation space.](#Transform-the-test-data-into-your-representation-space.)\n",
    "  0. [Assess your model](#Assess-your-model)\n",
    "  0. [Iterate](#Iterate)"
   ]
  },
  {
   "cell_type": "markdown",
   "metadata": {},
   "source": [
    "# Overview\n",
    "\n",
    "This tutorial covers vectors and matrices with Numpy and Scipy and then uses supervised learning as a way to introduce you to the concepts and design patterns of [scikit-learn](http://scikit-learn.org/).\n",
    "\n",
    "* If you've never programmed in Python before, this tutorial will be confusing and disorienting. Better to start with a more basic, less focused course!\n",
    "\n",
    "* If you've programmed in Python before but have no experience with machine learning, this might be a confusing and disorienting experience, but it could still be valuable, so we suggest you give it a shot, accepting that you won't get all of it on this round.\n",
    "\n",
    "* __If you're an experienced Python programmer who has taken a basic course in machine learning, this tutorial is for you!__\n",
    "\n",
    "* If you're an expert at Python, machine learning, and scikit-learn, then stick around to help your peers!\n",
    "\n",
    "We're not going to try to cover or motivate machine learning concepts. Our goals are more coding-oriented. However, we do think this kind of hands-on exploration is essential for achieving a deep understanding of those concepts."
   ]
  },
  {
   "cell_type": "markdown",
   "metadata": {},
   "source": [
    "# Set-up\n",
    "\n",
    "This tutorial requires `numpy >= 1.6.1`, `scipy >= 0.9`, and `sklearn >= 0.18.1`. If you're not already set up with these, we recommend installing them all via [Anaconda](https://www.continuum.io/downloads). This tutorial will work with Python 2 and Python 3. We recommend Python 3. (Anaconda will make it easy to switch between Python 2 and Python 3.)"
   ]
  },
  {
   "cell_type": "markdown",
   "metadata": {},
   "source": [
    "# Vectors"
   ]
  },
  {
   "cell_type": "code",
   "execution_count": null,
   "metadata": {},
   "outputs": [],
   "source": [
    "import numpy as np"
   ]
  },
  {
   "cell_type": "markdown",
   "metadata": {},
   "source": [
    "## Vector initialization"
   ]
  },
  {
   "cell_type": "code",
   "execution_count": null,
   "metadata": {},
   "outputs": [],
   "source": [
    "np.zeros(5)"
   ]
  },
  {
   "cell_type": "code",
   "execution_count": null,
   "metadata": {},
   "outputs": [],
   "source": [
    "np.ones(5)"
   ]
  },
  {
   "cell_type": "code",
   "execution_count": null,
   "metadata": {},
   "outputs": [],
   "source": [
    "np.array([1,2,3,4,5])"
   ]
  },
  {
   "cell_type": "code",
   "execution_count": null,
   "metadata": {},
   "outputs": [],
   "source": [
    "np.ones(5).tolist()"
   ]
  },
  {
   "cell_type": "code",
   "execution_count": null,
   "metadata": {},
   "outputs": [],
   "source": [
    "np.array([1.0,2,3,4,5])"
   ]
  },
  {
   "cell_type": "code",
   "execution_count": null,
   "metadata": {},
   "outputs": [],
   "source": [
    "np.array([1,2,3,4,5], dtype='float')"
   ]
  },
  {
   "cell_type": "code",
   "execution_count": null,
   "metadata": {},
   "outputs": [],
   "source": [
    "np.array([x for x in range(20) if x % 2 == 0])"
   ]
  },
  {
   "cell_type": "markdown",
   "metadata": {},
   "source": [
    "__Exercise__: Create some vectors with [np.arange](https://docs.scipy.org/doc/numpy/reference/generated/numpy.arange.html)."
   ]
  },
  {
   "cell_type": "markdown",
   "metadata": {},
   "source": [
    "__Exercise__: Review the other [Numpy array-creation routines](https://docs.scipy.org/doc/numpy/reference/routines.array-creation.html)."
   ]
  },
  {
   "cell_type": "markdown",
   "metadata": {},
   "source": [
    "__Exercise__: Create some random vectors with [np.random](https://docs.scipy.org/doc/numpy/reference/routines.random.html) methods."
   ]
  },
  {
   "cell_type": "markdown",
   "metadata": {},
   "source": [
    "## Vector indexing"
   ]
  },
  {
   "cell_type": "code",
   "execution_count": null,
   "metadata": {},
   "outputs": [],
   "source": [
    "x = np.array([10,20,30,40,50])"
   ]
  },
  {
   "cell_type": "code",
   "execution_count": null,
   "metadata": {},
   "outputs": [],
   "source": [
    "x[0]"
   ]
  },
  {
   "cell_type": "code",
   "execution_count": null,
   "metadata": {},
   "outputs": [],
   "source": [
    "x[0:2]"
   ]
  },
  {
   "cell_type": "code",
   "execution_count": null,
   "metadata": {},
   "outputs": [],
   "source": [
    "x[0:1000]"
   ]
  },
  {
   "cell_type": "code",
   "execution_count": null,
   "metadata": {},
   "outputs": [],
   "source": [
    "x[-1]"
   ]
  },
  {
   "cell_type": "code",
   "execution_count": null,
   "metadata": {},
   "outputs": [],
   "source": [
    "x[[0,2,4]]"
   ]
  },
  {
   "cell_type": "code",
   "execution_count": null,
   "metadata": {},
   "outputs": [],
   "source": [
    "x[[-1]]"
   ]
  },
  {
   "cell_type": "code",
   "execution_count": null,
   "metadata": {},
   "outputs": [],
   "source": [
    "x[-1:]"
   ]
  },
  {
   "cell_type": "markdown",
   "metadata": {},
   "source": [
    "__Exercise__: Write an expression that will get the antepenultimate and final elements of any array. (The antepenultimate element is 3 places back from the end. For our `x` above, you should get back `np.array([30, 50])`, but make sure your code would work for any `np.array` with at least three elements.)"
   ]
  },
  {
   "cell_type": "markdown",
   "metadata": {},
   "source": [
    "## Vector assignment"
   ]
  },
  {
   "cell_type": "code",
   "execution_count": null,
   "metadata": {},
   "outputs": [],
   "source": [
    "x2 = x.copy()"
   ]
  },
  {
   "cell_type": "code",
   "execution_count": null,
   "metadata": {},
   "outputs": [],
   "source": [
    "x2[0] = 10\n",
    "\n",
    "x2"
   ]
  },
  {
   "cell_type": "code",
   "execution_count": null,
   "metadata": {},
   "outputs": [],
   "source": [
    "x2[[1,2]] = 10\n",
    "\n",
    "x2"
   ]
  },
  {
   "cell_type": "code",
   "execution_count": null,
   "metadata": {},
   "outputs": [],
   "source": [
    "x2[[3,4]] = [0, 1]\n",
    "\n",
    "x2"
   ]
  },
  {
   "cell_type": "markdown",
   "metadata": {},
   "source": [
    "## Vectorized operations"
   ]
  },
  {
   "cell_type": "code",
   "execution_count": null,
   "metadata": {},
   "outputs": [],
   "source": [
    "x.sum()"
   ]
  },
  {
   "cell_type": "code",
   "execution_count": null,
   "metadata": {},
   "outputs": [],
   "source": [
    "x.mean()"
   ]
  },
  {
   "cell_type": "code",
   "execution_count": null,
   "metadata": {},
   "outputs": [],
   "source": [
    "x.max()"
   ]
  },
  {
   "cell_type": "code",
   "execution_count": null,
   "metadata": {},
   "outputs": [],
   "source": [
    "x.argmax()"
   ]
  },
  {
   "cell_type": "code",
   "execution_count": null,
   "metadata": {},
   "outputs": [],
   "source": [
    "np.log(x)"
   ]
  },
  {
   "cell_type": "code",
   "execution_count": null,
   "metadata": {},
   "outputs": [],
   "source": [
    "np.exp(x)"
   ]
  },
  {
   "cell_type": "code",
   "execution_count": null,
   "metadata": {},
   "outputs": [],
   "source": [
    "x + x  # Try also with *, -, /, etc."
   ]
  },
  {
   "cell_type": "code",
   "execution_count": null,
   "metadata": {},
   "outputs": [],
   "source": [
    "x + 1"
   ]
  },
  {
   "cell_type": "markdown",
   "metadata": {},
   "source": [
    "__Exercise__: complete the following sigmoid (logistic) function so that it works for both vector inputs and integer/float inputs. The function itself is defined as\n",
    "\n",
    "$${\\displaystyle f(x)={\\frac {1}{1+e^{-x}}}}$$"
   ]
  },
  {
   "cell_type": "code",
   "execution_count": null,
   "metadata": {},
   "outputs": [],
   "source": [
    "def sigmoid(x):\n",
    "    \"\"\"The sigmoid function f(x) = 1 / (1 + e^-x)\n",
    "        \n",
    "    Parameters\n",
    "    ----------\n",
    "    x : int, float, or np.array\n",
    "    \n",
    "    Returns\n",
    "    -------\n",
    "    float or np.array\n",
    "    \"\"\"\n",
    "    pass"
   ]
  },
  {
   "cell_type": "code",
   "execution_count": null,
   "metadata": {},
   "outputs": [],
   "source": [
    "assert sigmoid(0) == 0.5"
   ]
  },
  {
   "cell_type": "code",
   "execution_count": null,
   "metadata": {},
   "outputs": [],
   "source": [
    "assert (sigmoid(np.array([0.0])) == np.array([0.5])).all()"
   ]
  },
  {
   "cell_type": "markdown",
   "metadata": {},
   "source": [
    "## Comparison with Python lists\n",
    "\n",
    "Vectorizing your mathematical expressions can lead to __huge__ performance gains. The following example is meant to give you a sense for this. It compares applying `np.log` to each element of a list with 10 million values with the same operation done on a vector."
   ]
  },
  {
   "cell_type": "code",
   "execution_count": null,
   "metadata": {},
   "outputs": [],
   "source": [
    "def listlog(vals):\n",
    "    return [np.log(y) for y in vals]"
   ]
  },
  {
   "cell_type": "code",
   "execution_count": null,
   "metadata": {},
   "outputs": [],
   "source": [
    "samp = np.random.random_sample(int(1e7))+1"
   ]
  },
  {
   "cell_type": "code",
   "execution_count": null,
   "metadata": {},
   "outputs": [],
   "source": [
    "%time _ = np.log(samp)"
   ]
  },
  {
   "cell_type": "code",
   "execution_count": null,
   "metadata": {},
   "outputs": [],
   "source": [
    "%time _ = listlog(samp)"
   ]
  },
  {
   "cell_type": "markdown",
   "metadata": {},
   "source": [
    "# Matrices\n",
    "\n",
    "The matrix is the core object of machine learning implementations. In `sklearn`, it's the most common input and output and thus a key to how the library's numerous methods can work together."
   ]
  },
  {
   "cell_type": "markdown",
   "metadata": {},
   "source": [
    "## Matrix initialization"
   ]
  },
  {
   "cell_type": "code",
   "execution_count": null,
   "metadata": {},
   "outputs": [],
   "source": [
    "np.array([[1,2,3], [4,5,6]])"
   ]
  },
  {
   "cell_type": "code",
   "execution_count": null,
   "metadata": {},
   "outputs": [],
   "source": [
    "np.array([[1,2,3], [4,5,6]], dtype='float')"
   ]
  },
  {
   "cell_type": "code",
   "execution_count": null,
   "metadata": {},
   "outputs": [],
   "source": [
    "np.zeros((3,5))"
   ]
  },
  {
   "cell_type": "code",
   "execution_count": null,
   "metadata": {},
   "outputs": [],
   "source": [
    "np.ones((3,5))"
   ]
  },
  {
   "cell_type": "code",
   "execution_count": null,
   "metadata": {},
   "outputs": [],
   "source": [
    "np.identity(3)"
   ]
  },
  {
   "cell_type": "code",
   "execution_count": null,
   "metadata": {},
   "outputs": [],
   "source": [
    "np.diag([1,2,3])"
   ]
  },
  {
   "cell_type": "markdown",
   "metadata": {},
   "source": [
    "## Matrix indexing"
   ]
  },
  {
   "cell_type": "code",
   "execution_count": null,
   "metadata": {},
   "outputs": [],
   "source": [
    "X = np.array([[1,2,3], [4,5,6]])"
   ]
  },
  {
   "cell_type": "code",
   "execution_count": null,
   "metadata": {},
   "outputs": [],
   "source": [
    "X"
   ]
  },
  {
   "cell_type": "code",
   "execution_count": null,
   "metadata": {},
   "outputs": [],
   "source": [
    "X[0]"
   ]
  },
  {
   "cell_type": "code",
   "execution_count": null,
   "metadata": {},
   "outputs": [],
   "source": [
    "X[0,0]"
   ]
  },
  {
   "cell_type": "code",
   "execution_count": null,
   "metadata": {},
   "outputs": [],
   "source": [
    "X[0, : ]"
   ]
  },
  {
   "cell_type": "code",
   "execution_count": null,
   "metadata": {},
   "outputs": [],
   "source": [
    "X[ : , 0]"
   ]
  },
  {
   "cell_type": "code",
   "execution_count": null,
   "metadata": {},
   "outputs": [],
   "source": [
    "X[ : , [0,2]]"
   ]
  },
  {
   "cell_type": "markdown",
   "metadata": {},
   "source": [
    "__Exercise__: Write an expression to get the lowest, rightmost value of any matrix."
   ]
  },
  {
   "cell_type": "markdown",
   "metadata": {},
   "source": [
    "## Matrix assignment"
   ]
  },
  {
   "cell_type": "code",
   "execution_count": null,
   "metadata": {},
   "outputs": [],
   "source": [
    "X2 = X.copy()\n",
    "\n",
    "X2"
   ]
  },
  {
   "cell_type": "code",
   "execution_count": null,
   "metadata": {},
   "outputs": [],
   "source": [
    "X2[0,0] = 20\n",
    "\n",
    "X2"
   ]
  },
  {
   "cell_type": "code",
   "execution_count": null,
   "metadata": {},
   "outputs": [],
   "source": [
    "X2[0] = 3\n",
    "\n",
    "X2"
   ]
  },
  {
   "cell_type": "code",
   "execution_count": null,
   "metadata": {},
   "outputs": [],
   "source": [
    "X2[: , -1] = [5, 6]\n",
    "\n",
    "X2"
   ]
  },
  {
   "cell_type": "markdown",
   "metadata": {},
   "source": [
    "## Matrix reshaping"
   ]
  },
  {
   "cell_type": "code",
   "execution_count": null,
   "metadata": {},
   "outputs": [],
   "source": [
    "z = np.arange(1, 7)\n",
    "\n",
    "z"
   ]
  },
  {
   "cell_type": "code",
   "execution_count": null,
   "metadata": {},
   "outputs": [],
   "source": [
    "Z = z.reshape(2,3)\n",
    "\n",
    "Z"
   ]
  },
  {
   "cell_type": "code",
   "execution_count": null,
   "metadata": {},
   "outputs": [],
   "source": [
    "Z.reshape(6)"
   ]
  },
  {
   "cell_type": "code",
   "execution_count": null,
   "metadata": {},
   "outputs": [],
   "source": [
    "Z.T"
   ]
  },
  {
   "cell_type": "markdown",
   "metadata": {},
   "source": [
    "__Exercise__: Reshape `Z` so that it has dimension $6 \\times 1$ (6 rows of length 1)."
   ]
  },
  {
   "cell_type": "markdown",
   "metadata": {},
   "source": [
    "## Numeric operations"
   ]
  },
  {
   "cell_type": "code",
   "execution_count": null,
   "metadata": {},
   "outputs": [],
   "source": [
    "A = np.array(range(1,7), dtype='float').reshape(2,3)\n",
    "\n",
    "A"
   ]
  },
  {
   "cell_type": "code",
   "execution_count": null,
   "metadata": {},
   "outputs": [],
   "source": [
    "B = np.array([2, 2, 2])"
   ]
  },
  {
   "cell_type": "code",
   "execution_count": null,
   "metadata": {},
   "outputs": [],
   "source": [
    "A * B"
   ]
  },
  {
   "cell_type": "code",
   "execution_count": null,
   "metadata": {},
   "outputs": [],
   "source": [
    "A + B"
   ]
  },
  {
   "cell_type": "code",
   "execution_count": null,
   "metadata": {},
   "outputs": [],
   "source": [
    "A / B"
   ]
  },
  {
   "cell_type": "code",
   "execution_count": null,
   "metadata": {},
   "outputs": [],
   "source": [
    "A.dot(B)"
   ]
  },
  {
   "cell_type": "code",
   "execution_count": null,
   "metadata": {},
   "outputs": [],
   "source": [
    "B.dot(A.T)"
   ]
  },
  {
   "cell_type": "code",
   "execution_count": null,
   "metadata": {},
   "outputs": [],
   "source": [
    "A.dot(A.T)"
   ]
  },
  {
   "cell_type": "code",
   "execution_count": null,
   "metadata": {},
   "outputs": [],
   "source": [
    "np.outer(B, B)"
   ]
  },
  {
   "cell_type": "markdown",
   "metadata": {},
   "source": [
    "## Sparse matrices with scipy\n",
    "\n",
    "It is very common in machine learning to require matrices with very high dimensionality – so high that instantiating them as `np.array` objects is impossible because they require too much memory.\n",
    "\n",
    "The one saving grace is that these large matrices tend to be __sparse__ – almost all of their elements are $0$. Scipy sparse matrices do not represent these 0s, which is often enough to address the memory problems.\n",
    "\n",
    "For the most part, `scipy.sparse` matrices behave like `np.array` objects. The two main differences: they support fewer mathematical operations, and they always have two dimensions.\n",
    "\n",
    "`sklearn` is pretty good at hiding the sparse/dense distinction from you.\n",
    "\n",
    "This section explores `scipy.sparse` a bit. You'll see that we commonly use `toarray()` to see what the objects are like. (Not an option where sparsity is key, of course!)"
   ]
  },
  {
   "cell_type": "code",
   "execution_count": null,
   "metadata": {},
   "outputs": [],
   "source": [
    "import scipy.sparse"
   ]
  },
  {
   "cell_type": "code",
   "execution_count": null,
   "metadata": {},
   "outputs": [],
   "source": [
    "scipy.sparse.lil_matrix(2)"
   ]
  },
  {
   "cell_type": "code",
   "execution_count": null,
   "metadata": {},
   "outputs": [],
   "source": [
    "scipy.sparse.lil_matrix(2).toarray()"
   ]
  },
  {
   "cell_type": "code",
   "execution_count": null,
   "metadata": {},
   "outputs": [],
   "source": [
    "scipy.sparse.lil_matrix((1,2))"
   ]
  },
  {
   "cell_type": "code",
   "execution_count": null,
   "metadata": {},
   "outputs": [],
   "source": [
    "scipy.sparse.lil_matrix((1,2)).toarray()"
   ]
  },
  {
   "cell_type": "code",
   "execution_count": null,
   "metadata": {},
   "outputs": [],
   "source": [
    "scipy.sparse.lil_matrix([1,2]).toarray()"
   ]
  },
  {
   "cell_type": "code",
   "execution_count": null,
   "metadata": {},
   "outputs": [],
   "source": [
    "S = scipy.sparse.lil_matrix((2,3))\n",
    "\n",
    "S"
   ]
  },
  {
   "cell_type": "code",
   "execution_count": null,
   "metadata": {},
   "outputs": [],
   "source": [
    "S[0,0] = 4\n",
    "S[1,2] = 6\n",
    "\n",
    "S"
   ]
  },
  {
   "cell_type": "code",
   "execution_count": null,
   "metadata": {},
   "outputs": [],
   "source": [
    "S.toarray()"
   ]
  },
  {
   "cell_type": "code",
   "execution_count": null,
   "metadata": {},
   "outputs": [],
   "source": [
    "S.nonzero()"
   ]
  },
  {
   "cell_type": "code",
   "execution_count": null,
   "metadata": {},
   "outputs": [],
   "source": [
    "for i, j in zip(*S.nonzero()):\n",
    "    print(i, j, S[i, j])"
   ]
  },
  {
   "cell_type": "code",
   "execution_count": null,
   "metadata": {},
   "outputs": [],
   "source": [
    "C = scipy.sparse.csr_matrix(np.array([[1,2,3], [4,5,6]]))\n",
    "\n",
    "C"
   ]
  },
  {
   "cell_type": "markdown",
   "metadata": {},
   "source": [
    "The following return `np.matrix` instances, which are like `np.array` instances but always have two dimensions. The gotcha here is that the results are dense, so one has to be careful if the original matrix is really big:"
   ]
  },
  {
   "cell_type": "code",
   "execution_count": null,
   "metadata": {},
   "outputs": [],
   "source": [
    "C.sum(axis=0)"
   ]
  },
  {
   "cell_type": "code",
   "execution_count": null,
   "metadata": {},
   "outputs": [],
   "source": [
    "C.sum(axis=1)"
   ]
  },
  {
   "cell_type": "markdown",
   "metadata": {},
   "source": [
    "Scipy sparse matrices can be multiplied by other sparse matrices as well as dense ones. If the argument is dense, so is the result."
   ]
  },
  {
   "cell_type": "code",
   "execution_count": null,
   "metadata": {},
   "outputs": [],
   "source": [
    "C.dot(B)"
   ]
  },
  {
   "cell_type": "code",
   "execution_count": null,
   "metadata": {},
   "outputs": [],
   "source": [
    "B_sparse = scipy.sparse.csr_matrix([2,2,2])\n",
    "\n",
    "C.dot(B_sparse.T)"
   ]
  },
  {
   "cell_type": "markdown",
   "metadata": {},
   "source": [
    "Rules of thumb:\n",
    "    \n",
    "* `lil_matrix` is fastest if you're adding things to the matrix\n",
    "* `csr_matrix` is fastest if you're doing row-wise operations.\n",
    "* `csc_matrix` is fastest if you're doing column-wise operations.\n",
    "\n",
    "Other types: [scipy.sparse](https://docs.scipy.org/doc/scipy/reference/sparse.html)."
   ]
  },
  {
   "cell_type": "markdown",
   "metadata": {},
   "source": [
    "# Data splits\n",
    "\n",
    "In supervised learning, the available data are split into a portion for training and another portion for testing. This section covers two `sklearn` methods for doing that.\n",
    "\n",
    "We're just providing the mechanics. We won't really be able to cover the more complex scientific issues around how to divide up data for robust system development and accurate assessment. These are the building blocks for that work, though."
   ]
  },
  {
   "cell_type": "markdown",
   "metadata": {},
   "source": [
    "## A small classification dataset"
   ]
  },
  {
   "cell_type": "code",
   "execution_count": null,
   "metadata": {},
   "outputs": [],
   "source": [
    "from sklearn.datasets import load_iris"
   ]
  },
  {
   "cell_type": "code",
   "execution_count": null,
   "metadata": {},
   "outputs": [],
   "source": [
    "iris = load_iris()"
   ]
  },
  {
   "cell_type": "code",
   "execution_count": null,
   "metadata": {},
   "outputs": [],
   "source": [
    "X_iris = iris['data']\n",
    "\n",
    "X_iris"
   ]
  },
  {
   "cell_type": "code",
   "execution_count": null,
   "metadata": {},
   "outputs": [],
   "source": [
    "y_iris = iris['target']\n",
    "\n",
    "y_iris"
   ]
  },
  {
   "cell_type": "markdown",
   "metadata": {},
   "source": [
    "## A small regression dataset"
   ]
  },
  {
   "cell_type": "code",
   "execution_count": null,
   "metadata": {},
   "outputs": [],
   "source": [
    "from sklearn.datasets import load_boston"
   ]
  },
  {
   "cell_type": "code",
   "execution_count": null,
   "metadata": {},
   "outputs": [],
   "source": [
    "boston = load_boston()"
   ]
  },
  {
   "cell_type": "code",
   "execution_count": null,
   "metadata": {},
   "outputs": [],
   "source": [
    "X_boston = boston['data']\n",
    "\n",
    "X_boston"
   ]
  },
  {
   "cell_type": "code",
   "execution_count": null,
   "metadata": {},
   "outputs": [],
   "source": [
    "boston['feature_names']"
   ]
  },
  {
   "cell_type": "code",
   "execution_count": null,
   "metadata": {},
   "outputs": [],
   "source": [
    "y_boston = boston['target']\n",
    "\n",
    "y_boston"
   ]
  },
  {
   "cell_type": "markdown",
   "metadata": {},
   "source": [
    "## Simple train/test splits"
   ]
  },
  {
   "cell_type": "code",
   "execution_count": null,
   "metadata": {},
   "outputs": [],
   "source": [
    "from sklearn.model_selection import train_test_split"
   ]
  },
  {
   "cell_type": "code",
   "execution_count": null,
   "metadata": {},
   "outputs": [],
   "source": [
    "X_iris_train, X_iris_test, y_iris_train, y_iris_test = train_test_split(\n",
    "    X_iris, y_iris, train_size=0.7)"
   ]
  },
  {
   "cell_type": "code",
   "execution_count": null,
   "metadata": {},
   "outputs": [],
   "source": [
    "X_iris_train.shape"
   ]
  },
  {
   "cell_type": "code",
   "execution_count": null,
   "metadata": {},
   "outputs": [],
   "source": [
    "y_iris_train.shape"
   ]
  },
  {
   "cell_type": "code",
   "execution_count": null,
   "metadata": {},
   "outputs": [],
   "source": [
    "X_iris_test.shape"
   ]
  },
  {
   "cell_type": "code",
   "execution_count": null,
   "metadata": {},
   "outputs": [],
   "source": [
    "y_iris_test.shape"
   ]
  },
  {
   "cell_type": "markdown",
   "metadata": {},
   "source": [
    "## Cross-validation\n",
    "\n",
    "In $n$-fold cross validation, the data are divided into $n$ equal portions, and then $n$ evaluations are performed. In each, the system is trained on $n-1$ of the folds combined and tested on the remaining one. The scores from each of the $n$ evaluations can then be summarized in various ways (e.g., an average with a confidence interval)."
   ]
  },
  {
   "cell_type": "code",
   "execution_count": null,
   "metadata": {},
   "outputs": [],
   "source": [
    "from sklearn.model_selection import StratifiedKFold"
   ]
  },
  {
   "cell_type": "code",
   "execution_count": null,
   "metadata": {},
   "outputs": [],
   "source": [
    "skf = StratifiedKFold(n_splits=5)\n",
    "\n",
    "skf"
   ]
  },
  {
   "cell_type": "code",
   "execution_count": null,
   "metadata": {},
   "outputs": [],
   "source": [
    "def iter_splits(X, y, n_splits=5):\n",
    "    \"\"\"Convenience wrapper around `StratifiedKFold`.\n",
    "    \n",
    "    Parameters\n",
    "    ----------\n",
    "    X : array-like -- the feature matrix, dimension m x n\n",
    "    y : array-like -- the label vector, dimension m\n",
    "    n_splits : int\n",
    "    \n",
    "    Yields\n",
    "    ------\n",
    "    all array-like: X_train, X_test, y_train, y_test    \n",
    "    \"\"\"\n",
    "    skf = StratifiedKFold(n_splits=5) \n",
    "    for train_index, test_index in skf.split(X, y):\n",
    "        X_train, X_test = X[train_index], X[test_index]\n",
    "        y_train, y_test = y[train_index], y[test_index]\n",
    "        yield X_train, X_test, y_train, y_test"
   ]
  },
  {
   "cell_type": "code",
   "execution_count": null,
   "metadata": {},
   "outputs": [],
   "source": [
    "for train, test, _, _ in iter_splits(X_iris, y_iris):\n",
    "    print(\"Train instances: {}; test instances: {}\".format(\n",
    "            train.shape[0], test.shape[0]))"
   ]
  },
  {
   "cell_type": "markdown",
   "metadata": {},
   "source": [
    "Other methods for cross-validation: [sklearn.model_selection](http://scikit-learn.org/stable/modules/classes.html#module-sklearn.model_selection)."
   ]
  },
  {
   "cell_type": "markdown",
   "metadata": {},
   "source": [
    "# Basic preprecessing\n",
    "\n",
    "Machine learning algorithms are often sensitive, to some degree or another, to the way the input matrix is scaled. If the columns (features) or rows (examples) are on very different scales, then the resulting model can be hard to interpret, or even misrepresent the underlying patterns. `sklearn` contains a variety of methods for addressing these scaling issues."
   ]
  },
  {
   "cell_type": "code",
   "execution_count": null,
   "metadata": {},
   "outputs": [],
   "source": [
    "from sklearn.preprocessing import scale, normalize"
   ]
  },
  {
   "cell_type": "code",
   "execution_count": null,
   "metadata": {},
   "outputs": [],
   "source": [
    "P = np.array([[1.0, 4, 5], [5, 4, 1]])"
   ]
  },
  {
   "cell_type": "code",
   "execution_count": null,
   "metadata": {},
   "outputs": [],
   "source": [
    "normalize(P, norm='l1', axis=0)"
   ]
  },
  {
   "cell_type": "code",
   "execution_count": null,
   "metadata": {},
   "outputs": [],
   "source": [
    "scale(P, with_mean=True, with_std=True)"
   ]
  },
  {
   "cell_type": "markdown",
   "metadata": {},
   "source": [
    "Other methods for preprocessing: [sklearn.preprocessing](http://scikit-learn.org/stable/modules/classes.html#module-sklearn.preprocessing). \n",
    "\n",
    "See also [sklearn.decomposition](http://scikit-learn.org/stable/modules/classes.html#module-sklearn.decomposition) and [sklearn.feature_extraction.text.TfidfTransformer](http://scikit-learn.org/stable/modules/generated/sklearn.feature_extraction.text.TfidfTransformer.html#sklearn.feature_extraction.text.TfidfTransformer)."
   ]
  },
  {
   "cell_type": "markdown",
   "metadata": {},
   "source": [
    "# Models\n",
    "\n",
    "The basic pattern for all these supervised models:\n",
    "\n",
    "1. Instantiate the model.\n",
    "2. Call its `fit` method on the training data pair `(X, y)`.\n",
    "3. Call its `predict` method on the test data `X_test`. This returns a list of predictions.\n",
    "4. Compare the list of predictions to `y_test`.\n",
    "\n",
    "We believe this holds for __all__ of the supervised models in `sklearn`."
   ]
  },
  {
   "cell_type": "markdown",
   "metadata": {},
   "source": [
    "## Classification"
   ]
  },
  {
   "cell_type": "code",
   "execution_count": null,
   "metadata": {},
   "outputs": [],
   "source": [
    "from sklearn.linear_model import LogisticRegression"
   ]
  },
  {
   "cell_type": "code",
   "execution_count": null,
   "metadata": {},
   "outputs": [],
   "source": [
    "maxent = LogisticRegression()\n",
    "\n",
    "maxent.fit(X_iris_train, y_iris_train)"
   ]
  },
  {
   "cell_type": "code",
   "execution_count": null,
   "metadata": {},
   "outputs": [],
   "source": [
    "iris_predictions = maxent.predict(X_iris_test)"
   ]
  },
  {
   "cell_type": "code",
   "execution_count": null,
   "metadata": {},
   "outputs": [],
   "source": [
    "from sklearn.metrics import classification_report"
   ]
  },
  {
   "cell_type": "code",
   "execution_count": null,
   "metadata": {},
   "outputs": [],
   "source": [
    "fnames_iris = iris['feature_names']\n",
    "\n",
    "fnames_iris"
   ]
  },
  {
   "cell_type": "code",
   "execution_count": null,
   "metadata": {},
   "outputs": [],
   "source": [
    "tnames_iris = iris['target_names']\n",
    "\n",
    "tnames_iris"
   ]
  },
  {
   "cell_type": "code",
   "execution_count": null,
   "metadata": {},
   "outputs": [],
   "source": [
    "print(classification_report(y_iris_test, iris_predictions, target_names=tnames_iris))"
   ]
  },
  {
   "cell_type": "markdown",
   "metadata": {},
   "source": [
    "The model coefficients (weights) are an array $c \\times p$, where $c$ is the number of classes and $p$ is the number of features."
   ]
  },
  {
   "cell_type": "code",
   "execution_count": null,
   "metadata": {},
   "outputs": [],
   "source": [
    "maxent.coef_"
   ]
  },
  {
   "cell_type": "code",
   "execution_count": null,
   "metadata": {},
   "outputs": [],
   "source": [
    "maxent.intercept_"
   ]
  },
  {
   "cell_type": "code",
   "execution_count": null,
   "metadata": {},
   "outputs": [],
   "source": [
    "maxent.classes_"
   ]
  },
  {
   "cell_type": "code",
   "execution_count": null,
   "metadata": {},
   "outputs": [],
   "source": [
    "# Create a map from feature names to class names to weights:\n",
    "\n",
    "features = {}\n",
    "\n",
    "for fname, coefs in zip(fnames_iris, maxent.coef_.T):\n",
    "    features[fname] = dict(zip(tnames_iris, coefs))\n",
    "    \n",
    "features"
   ]
  },
  {
   "cell_type": "markdown",
   "metadata": {},
   "source": [
    "## Regression"
   ]
  },
  {
   "cell_type": "code",
   "execution_count": null,
   "metadata": {},
   "outputs": [],
   "source": [
    "from sklearn.linear_model import LinearRegression"
   ]
  },
  {
   "cell_type": "code",
   "execution_count": null,
   "metadata": {},
   "outputs": [],
   "source": [
    "X_boston_train, X_boston_test, y_boston_train, y_boston_test = train_test_split(\n",
    "    X_boston, y_boston, train_size=0.7)"
   ]
  },
  {
   "cell_type": "code",
   "execution_count": null,
   "metadata": {},
   "outputs": [],
   "source": [
    "ols = LinearRegression()\n",
    "ols.fit(X_boston_train, y_boston_train)"
   ]
  },
  {
   "cell_type": "code",
   "execution_count": null,
   "metadata": {},
   "outputs": [],
   "source": [
    "boston_predictions = ols.predict(X_boston_test)"
   ]
  },
  {
   "cell_type": "code",
   "execution_count": null,
   "metadata": {},
   "outputs": [],
   "source": [
    "from sklearn.metrics import r2_score"
   ]
  },
  {
   "cell_type": "code",
   "execution_count": null,
   "metadata": {},
   "outputs": [],
   "source": [
    "r2_score(y_boston_test, boston_predictions)"
   ]
  },
  {
   "cell_type": "code",
   "execution_count": null,
   "metadata": {},
   "outputs": [],
   "source": [
    "dict(zip(boston['feature_names'], ols.coef_))"
   ]
  },
  {
   "cell_type": "markdown",
   "metadata": {},
   "source": [
    "## Model exercises"
   ]
  },
  {
   "cell_type": "markdown",
   "metadata": {},
   "source": [
    "__Exercise__: Pick a different classification model (any one!) from [sklearn.linear_model](http://scikit-learn.org/stable/modules/classes.html#module-sklearn.linear_model) and fit and evaluate it as above on the `iris` dataset."
   ]
  },
  {
   "cell_type": "markdown",
   "metadata": {},
   "source": [
    "__Exercise__: Fit a [RandomForestClassifier](http://scikit-learn.org/stable/modules/generated/sklearn.ensemble.RandomForestClassifier.html#sklearn.ensemble.RandomForestClassifier) or a [RandomForestRegressor](http://scikit-learn.org/stable/modules/generated/sklearn.ensemble.RandomForestRegressor.html#sklearn.ensemble.RandomForestRegressor)."
   ]
  },
  {
   "cell_type": "markdown",
   "metadata": {},
   "source": [
    "__Exercise__: Use `iter_splits` above on the `iris` dataset to evaluate a [Support Vector Classifier](http://scikit-learn.org/stable/modules/generated/sklearn.svm.SVC.html#sklearn.svm.SVC) with 5-fold cross-validation. For each of the evaluations, use [metrics.f1_score](http://scikit-learn.org/stable/modules/generated/sklearn.metrics.f1_score.html#sklearn.metrics.f1_score), store that value in a list, and report the mean with `np.mean`.\n",
    "\n",
    "Important: you'll have to use `f1_score(y_test, predictions, average='macro')` since this is a multiclass problem. (`'micro'` is also allowed.)"
   ]
  },
  {
   "cell_type": "code",
   "execution_count": null,
   "metadata": {},
   "outputs": [],
   "source": [
    "from sklearn.svm import SVC\n",
    "from sklearn.metrics import f1_score\n",
    "\n",
    "\n",
    "# Instantiate the model:\n",
    "\n",
    "\n",
    "# Add the scores to this list:\n",
    "scores = []\n",
    "\n",
    "\n",
    "# Iterate over the folds with `iter_split`. For each, use `predict` \n",
    "# to get predictions and `f1_score(y_test, predictions, average='macro')` \n",
    "# to get a score to add to `scores`.\n",
    "\n",
    "\n",
    "# Use `np.mean()` to get the mean of `scores`.\n"
   ]
  },
  {
   "cell_type": "markdown",
   "metadata": {},
   "source": [
    "# Hyperparameter optimization\n",
    "\n",
    "All `sklearn` models have knobs you can fiddle with. These are the __hyperparameters__ of the model. \n",
    "\n",
    "This term __hyperparameter__ contrasts with the model __parameters__, which are learned when `fit` is called. The hyperparameters are outside the scope of `fit`. \n",
    "\n",
    "For any given analysis, one should try to find the best setting of the hyperparameters – the setting that does the best with the data at hand. \n",
    "\n",
    "To see why this is important, suppose Will is a proponent of model $A$, and Chris thinks he has found a model $B$ that is better than $A$. To support this position, Chris should compare $A$ and $B$ on a dataset. Now, he could assure himself a win here by setting the hyperparameters poorly for $A$ and well for $B$, but this won't persuade Will. If he wants to persuade Will, he'll have to be able to say that he sought out the best setting for $A$. To do this, he'll have to explore the space of possible settings.\n",
    "\n",
    "In the example below, we use a classification model, and we explore two related hyperparameters that concern how to __regularize__ the model. Regularization is a process for preventing the weights from becoming exaggerated, which can lead to overfitting and hence poor performance on unseen test data."
   ]
  },
  {
   "cell_type": "code",
   "execution_count": null,
   "metadata": {},
   "outputs": [],
   "source": [
    "from sklearn.model_selection import GridSearchCV"
   ]
  },
  {
   "cell_type": "code",
   "execution_count": null,
   "metadata": {},
   "outputs": [],
   "source": [
    "cv = GridSearchCV(\n",
    "    estimator=LogisticRegression(fit_intercept=True),\n",
    "    param_grid={'C': [0.5, 1.0, 2.0], 'penalty': ['l1', 'l2']})\n",
    "\n",
    "cv.fit(X_iris_train, y_iris_train)\n",
    "\n",
    "cv.best_estimator_"
   ]
  },
  {
   "cell_type": "code",
   "execution_count": null,
   "metadata": {},
   "outputs": [],
   "source": [
    "cv.predict(X_iris_test)"
   ]
  },
  {
   "cell_type": "markdown",
   "metadata": {},
   "source": [
    "If the space of hyperparmeters is very large, it will be impractical to search the entire space. Taking random samples of the settings is known to be effective. See [RandomizedSearchCV](http://scikit-learn.org/stable/modules/generated/sklearn.model_selection.RandomizedSearchCV.html#sklearn.model_selection.RandomizedSearchCV)."
   ]
  },
  {
   "cell_type": "markdown",
   "metadata": {},
   "source": [
    "# Featurization with DictVectorizer\n",
    "\n",
    "In the above examples, the datasets were already packaged up for us as vectors and matrices. We didn't have to decide how to represent the underlying data, and we didn't have to undertake the often messy steps of going from raw data to the objects that `sklearn` is expecting.\n",
    "\n",
    "The [DictVectorizer](http://scikit-learn.org/stable/modules/generated/sklearn.feature_extraction.DictVectorizer.html) is an extremely useful and fast method for handling these messier parts of machine learning. The basic pattern:\n",
    "\n",
    "1. Process your training data into a list of dictionaries, one per example.\n",
    "2. Call the `fit_transform` method on that list of dicts. The return value is a matrix `X`.\n",
    "3. The vectorizer itself stores the feature names derived from the underlying dicts. These are aligned with the columns of `X`.\n",
    "4. Use `transform` to process new data into the feature space established by the training data.\n",
    "\n",
    "Here's a small concrete example:"
   ]
  },
  {
   "cell_type": "code",
   "execution_count": null,
   "metadata": {},
   "outputs": [],
   "source": [
    "from collections import Counter\n",
    "from sklearn.feature_extraction import DictVectorizer "
   ]
  },
  {
   "cell_type": "code",
   "execution_count": null,
   "metadata": {},
   "outputs": [],
   "source": [
    "data = [\n",
    "    [\"the movie was good\", \"positive\"],\n",
    "    [\"the movie was bad\", \"negative\"],\n",
    "    [\"the movie was excellent\", \"positive\"],\n",
    "    [\"the book was bad\", \"negative\"]]"
   ]
  },
  {
   "cell_type": "code",
   "execution_count": null,
   "metadata": {},
   "outputs": [],
   "source": [
    "sentences, labels = zip(*data)"
   ]
  },
  {
   "cell_type": "code",
   "execution_count": null,
   "metadata": {},
   "outputs": [],
   "source": [
    "feats = [Counter(s.split()) for s in sentences]\n",
    "\n",
    "feats"
   ]
  },
  {
   "cell_type": "code",
   "execution_count": null,
   "metadata": {},
   "outputs": [],
   "source": [
    "vec = DictVectorizer(sparse=False)\n",
    "X_text = vec.fit_transform(feats)\n",
    "\n",
    "X_text"
   ]
  },
  {
   "cell_type": "code",
   "execution_count": null,
   "metadata": {},
   "outputs": [],
   "source": [
    "vec.get_feature_names()"
   ]
  },
  {
   "cell_type": "code",
   "execution_count": null,
   "metadata": {},
   "outputs": [],
   "source": [
    "test_examples = [\n",
    "    \"the book was good\",\n",
    "    \"the book was excellent\"]"
   ]
  },
  {
   "cell_type": "code",
   "execution_count": null,
   "metadata": {},
   "outputs": [],
   "source": [
    "test_feats = [Counter(s.split()) for s in test_examples]"
   ]
  },
  {
   "cell_type": "code",
   "execution_count": null,
   "metadata": {},
   "outputs": [],
   "source": [
    "vec.transform(test_feats)"
   ]
  },
  {
   "cell_type": "markdown",
   "metadata": {},
   "source": [
    "# Mini-project: cheese or disease? \n",
    "\n",
    "The Stanford NLP group distributes a small labeled data set of cheese and diseases. How well can you do at predicting whether a given string is a cheese or a disease? The following starter code should help you with the high-level design of this experiment."
   ]
  },
  {
   "cell_type": "markdown",
   "metadata": {},
   "source": [
    "## Readers for the data\n",
    "\n",
    "These should be ready to use:"
   ]
  },
  {
   "cell_type": "code",
   "execution_count": null,
   "metadata": {},
   "outputs": [],
   "source": [
    "import csv\n",
    "import os\n",
    "\n",
    "def _cheese_disease_iterator(filename):\n",
    "    with open(filename) as f:\n",
    "        for label, text in csv.reader(f, delimiter='\\t'):\n",
    "            label = 'cheese' if label == '1' else 'disease'\n",
    "            yield label, text\n",
    "            \n",
    "def cheese_disease_train_iterator(\n",
    "        filename=os.path.join('data', 'cheeseDisease.train.txt')):\n",
    "    \"\"\"Iterate over the cheese/disease training data, yielding\n",
    "    (label, text) pairs.\n",
    "    \"\"\"\n",
    "    return _cheese_disease_iterator(filename)\n",
    "   \n",
    "def cheese_disease_test_iterator(\n",
    "        filename=os.path.join('data', 'cheeseDisease.test.txt')):\n",
    "    \"\"\"Iterate over the cheese/disease test data, yielding\n",
    "    (label, text) pairs.\n",
    "    \"\"\"\n",
    "    return _cheese_disease_iterator(filename)    "
   ]
  },
  {
   "cell_type": "code",
   "execution_count": null,
   "metadata": {},
   "outputs": [],
   "source": [
    "list(cheese_disease_test_iterator())[-5:]"
   ]
  },
  {
   "cell_type": "markdown",
   "metadata": {},
   "source": [
    "## Featurize examples"
   ]
  },
  {
   "cell_type": "code",
   "execution_count": null,
   "metadata": {},
   "outputs": [],
   "source": [
    "def featurize(s):\n",
    "    \"\"\"Represent an example `s` as a count dict.\n",
    "    \n",
    "    Parameters\n",
    "    ----------\n",
    "    s : str\n",
    "        The example to process.\n",
    "    \n",
    "    Returns\n",
    "    -------\n",
    "    dict \n",
    "        The keys are feature names, and the values are the feature \n",
    "        values -- int, float, or bool.    \n",
    "    \"\"\"\n",
    "    return {}"
   ]
  },
  {
   "cell_type": "markdown",
   "metadata": {},
   "source": [
    "## Use the featurizer on the training data"
   ]
  },
  {
   "cell_type": "code",
   "execution_count": null,
   "metadata": {},
   "outputs": [],
   "source": [
    "y_train = []\n",
    "\n",
    "train_feats = []\n",
    "\n",
    "for label, ex in cheese_disease_train_iterator():\n",
    "    # Add `label` to `y_train`.\n",
    "    \n",
    "    # Apply `featurize` to `ex` and store the result in `train_feats`.\n"
   ]
  },
  {
   "cell_type": "markdown",
   "metadata": {},
   "source": [
    "## Use the `DictVectorizer`\n",
    "\n",
    "As we did above: convert `train_feats` to a matrix `X_cd` by using `fit_transform`."
   ]
  },
  {
   "cell_type": "code",
   "execution_count": null,
   "metadata": {},
   "outputs": [],
   "source": []
  },
  {
   "cell_type": "markdown",
   "metadata": {},
   "source": [
    "## Train a classifier\n",
    "\n",
    "You'll train it on `X_cd` and `y_train`."
   ]
  },
  {
   "cell_type": "code",
   "execution_count": null,
   "metadata": {},
   "outputs": [],
   "source": []
  },
  {
   "cell_type": "markdown",
   "metadata": {},
   "source": [
    "## Use the featurizer on the test data\n",
    "\n",
    "Just as you did above for the training data. Be sure to use `cheese_disease_test_iterator`."
   ]
  },
  {
   "cell_type": "code",
   "execution_count": null,
   "metadata": {},
   "outputs": [],
   "source": [
    "y_test = []\n",
    "\n",
    "test_feats = []"
   ]
  },
  {
   "cell_type": "markdown",
   "metadata": {},
   "source": [
    "## Transform the test data into your representation space.\n",
    "\n",
    "This is done with the `transform` method of your vectorizer, on `test_feats`. *Not* `fit_transform`, as that will remap the representation space to the test data."
   ]
  },
  {
   "cell_type": "code",
   "execution_count": null,
   "metadata": {},
   "outputs": [],
   "source": []
  },
  {
   "cell_type": "markdown",
   "metadata": {},
   "source": [
    "## Assess your model\n",
    "\n",
    "Use your model's `predict` method on the test matrix you created in the previous step, and compare the predictions to `y_test` using `classification_report` as we did [here](#Classification)."
   ]
  },
  {
   "cell_type": "code",
   "execution_count": null,
   "metadata": {},
   "outputs": [],
   "source": []
  },
  {
   "cell_type": "markdown",
   "metadata": {},
   "source": [
    "## Iterate\n",
    "\n",
    "To improve performance, you can try different models, but the biggest changes are likely come from work on `featurize`. You can get as creative as you like there – the only requirement is that you translate your insights into feature dicts."
   ]
  }
 ],
 "metadata": {
  "kernelspec": {
   "display_name": "Python 3",
   "language": "python",
   "name": "python3"
  },
  "language_info": {
   "codemirror_mode": {
    "name": "ipython",
    "version": 3
   },
   "file_extension": ".py",
   "mimetype": "text/x-python",
   "name": "python",
   "nbconvert_exporter": "python",
   "pygments_lexer": "ipython3",
   "version": "3.5.0"
  },
  "latex_envs": {
   "bibliofile": "biblio.bib",
   "cite_by": "apalike",
   "current_citInitial": 1,
   "eqLabelWithNumbers": true,
   "eqNumInitial": 0
  },
  "toc": {
   "navigate_menu": false,
   "number_sections": true,
   "sideBar": true,
   "threshold": 6,
   "toc_cell": false,
   "toc_section_display": "block",
   "toc_window_display": true
  },
  "toc_position": {
   "height": "946px",
   "left": "0px",
   "right": "auto",
   "top": "105px",
   "width": "212px"
  }
 },
 "nbformat": 4,
 "nbformat_minor": 1
}
